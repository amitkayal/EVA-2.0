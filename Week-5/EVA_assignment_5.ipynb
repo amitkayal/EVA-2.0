{
  "nbformat": 4,
  "nbformat_minor": 0,
  "metadata": {
    "colab": {
      "name": "EVA_assignment_5.ipynb",
      "version": "0.3.2",
      "provenance": [],
      "collapsed_sections": []
    },
    "kernelspec": {
      "name": "python3",
      "display_name": "Python 3"
    },
    "accelerator": "GPU"
  },
  "cells": [
    {
      "cell_type": "markdown",
      "metadata": {
        "id": "m-Ja0m4eVa0M",
        "colab_type": "text"
      },
      "source": [
        "# Importing required libraries and modules"
      ]
    },
    {
      "cell_type": "code",
      "metadata": {
        "id": "0SJyVpgSxHt4",
        "colab_type": "code",
        "outputId": "47e9a9bd-af4c-4c6d-95b0-f549713109a4",
        "colab": {
          "base_uri": "https://localhost:8080/",
          "height": 34
        }
      },
      "source": [
        "import numpy as np\n",
        "from matplotlib import pyplot as plt\n",
        "\n",
        "from keras.models import Sequential\n",
        "from keras.layers import Dense, Dropout, Activation, Flatten, Add, BatchNormalization, Conv2D, MaxPooling2D, Convolution2D\n",
        "from keras.utils import np_utils\n",
        "from keras.optimizers import Adam\n",
        "from keras.callbacks import LearningRateScheduler, ModelCheckpoint\n",
        "from keras.preprocessing.image import ImageDataGenerator\n",
        "from keras.regularizers import l2\n",
        "\n",
        "from keras.datasets import mnist\n",
        "\n",
        "%matplotlib inline"
      ],
      "execution_count": 1,
      "outputs": [
        {
          "output_type": "stream",
          "text": [
            "Using TensorFlow backend.\n"
          ],
          "name": "stderr"
        }
      ]
    },
    {
      "cell_type": "markdown",
      "metadata": {
        "id": "LZzO_jbZOyRs",
        "colab_type": "text"
      },
      "source": [
        "# Loading the data"
      ]
    },
    {
      "cell_type": "code",
      "metadata": {
        "id": "YlEUplvoxKAT",
        "colab_type": "code",
        "outputId": "680b112c-4377-4b3e-ec8d-364b53ff8ece",
        "colab": {
          "base_uri": "https://localhost:8080/",
          "height": 51
        }
      },
      "source": [
        "(X_train, y_train), (X_test, y_test) = mnist.load_data()"
      ],
      "execution_count": 2,
      "outputs": [
        {
          "output_type": "stream",
          "text": [
            "Downloading data from https://s3.amazonaws.com/img-datasets/mnist.npz\n",
            "11493376/11490434 [==============================] - 1s 0us/step\n"
          ],
          "name": "stdout"
        }
      ]
    },
    {
      "cell_type": "code",
      "metadata": {
        "id": "I6Y9Va-xxMXG",
        "colab_type": "code",
        "outputId": "33e89226-39ee-4ad9-9f17-afc5d87d6971",
        "colab": {
          "base_uri": "https://localhost:8080/",
          "height": 303
        }
      },
      "source": [
        "print (X_train.shape)\n",
        "from matplotlib import pyplot as plt\n",
        "%matplotlib inline\n",
        "plt.imshow(X_train[1])"
      ],
      "execution_count": 3,
      "outputs": [
        {
          "output_type": "stream",
          "text": [
            "(60000, 28, 28)\n"
          ],
          "name": "stdout"
        },
        {
          "output_type": "execute_result",
          "data": {
            "text/plain": [
              "<matplotlib.image.AxesImage at 0x7f101344b048>"
            ]
          },
          "metadata": {
            "tags": []
          },
          "execution_count": 3
        },
        {
          "output_type": "display_data",
          "data": {
            "image/png": "[encoded data removed]",
            "text/plain": [
              "<Figure size 432x288 with 1 Axes>"
            ]
          },
          "metadata": {
            "tags": []
          }
        }
      ]
    },
    {
      "cell_type": "markdown",
      "metadata": {
        "id": "LMrr-huMLM0e",
        "colab_type": "text"
      },
      "source": [
        "The below blocks of code shows the preprocessing that is performed on the image data."
      ]
    },
    {
      "cell_type": "code",
      "metadata": {
        "id": "lxDZxPhhxOgO",
        "colab_type": "code",
        "colab": {}
      },
      "source": [
        "X_train = X_train.reshape(X_train.shape[0], 28, 28,1)\n",
        "X_test = X_test.reshape(X_test.shape[0], 28, 28,1)"
      ],
      "execution_count": 0,
      "outputs": []
    },
    {
      "cell_type": "code",
      "metadata": {
        "id": "3HzMqbTnxQQW",
        "colab_type": "code",
        "colab": {}
      },
      "source": [
        "X_train = X_train.astype('float32')\n",
        "X_test = X_test.astype('float32')\n",
        "X_train /= 255\n",
        "X_test /= 255"
      ],
      "execution_count": 0,
      "outputs": []
    },
    {
      "cell_type": "code",
      "metadata": {
        "id": "7LdYiW6ixR9e",
        "colab_type": "code",
        "colab": {}
      },
      "source": [
        "Y_train = np_utils.to_categorical(y_train, 10)\n",
        "Y_test = np_utils.to_categorical(y_test, 10)"
      ],
      "execution_count": 0,
      "outputs": []
    },
    {
      "cell_type": "markdown",
      "metadata": {
        "id": "VEPett6KLUYc",
        "colab_type": "text"
      },
      "source": [
        "### Image Normalization\n",
        "\n",
        "Image Normalization helps in reducing overfitting of the model as well as makes all the image data in the same range. This will help in reducing the loss and there by increasing the accuracy of the model. \n",
        "\n",
        "### L2 Regularization\n",
        "\n",
        "L2 regularization is used to reduce the overfitting of the model.\n",
        "\n",
        "\n",
        "The main goal of bringing in Image Normalization and L2 Regularization is to improve the generalizm of the model. "
      ]
    },
    {
      "cell_type": "code",
      "metadata": {
        "id": "vsPL5fRmu8nU",
        "colab_type": "code",
        "colab": {}
      },
      "source": [
        "datagen = ImageDataGenerator(featurewise_center=True, \n",
        "                             featurewise_std_normalization=True)\n",
        "datagen.fit(X_train)"
      ],
      "execution_count": 0,
      "outputs": []
    },
    {
      "cell_type": "code",
      "metadata": {
        "id": "mDpXf4YQxXRm",
        "colab_type": "code",
        "colab": {}
      },
      "source": [
        ""
      ],
      "execution_count": 0,
      "outputs": []
    },
    {
      "cell_type": "code",
      "metadata": {
        "id": "tfJywvPVoB_G",
        "colab_type": "code",
        "colab": {}
      },
      "source": [
        "# model = Sequential()\n",
        "# model.add(Convolution2D(16, 3, 3, input_shape=(28,28,1)))\n",
        "# model.add(BatchNormalization())\n",
        "# model.add(Activation('relu'))\n",
        "\n",
        "# model.add(Convolution2D(16, 1, 1))\n",
        "# model.add(BatchNormalization())\n",
        "# model.add(Activation('relu'))\n",
        "\n",
        "# model.add(MaxPooling2D(pool_size=(2,2)))\n",
        "\n",
        "# model.add(Convolution2D(32, 3, 3))\n",
        "# model.add(BatchNormalization())\n",
        "# model.add(Activation('relu'))\n",
        "\n",
        "# model.add(Convolution2D(16, 1, 1))\n",
        "# model.add(BatchNormalization())\n",
        "# model.add(Activation('relu'))\n",
        "\n",
        "# model.add(MaxPooling2D(pool_size=(2,2)))\n",
        "\n",
        "# model.add(Convolution2D(32, 3, 3))\n",
        "# model.add(BatchNormalization())\n",
        "# model.add(Activation('relu'))\n",
        "\n",
        "# model.add(Convolution2D(16, 3, 3))\n",
        "# model.add(BatchNormalization())\n",
        "# model.add(Activation('relu'))\n",
        "\n",
        "# model.add(Convolution2D(10, 1, 1))\n",
        "# model.add(BatchNormalization())\n",
        "# model.add(Activation('relu'))\n",
        "\n",
        "model=Sequential()\n",
        "model.add(Conv2D(16, (3, 3), input_shape=(28,28,1), kernel_regularizer=l2(0.01))) #26\n",
        "model.add(BatchNormalization())\n",
        "model.add(Activation('relu'))\n",
        "\n",
        "model.add(Conv2D(16, (3, 3), kernel_regularizer=l2(0.01))) #24\n",
        "model.add(BatchNormalization())\n",
        "model.add(Activation('relu'))\n",
        "\n",
        "model.add(Conv2D(10, (1, 1), kernel_regularizer=l2(0.01))) #24\n",
        "model.add(BatchNormalization())\n",
        "model.add(Activation('relu'))\n",
        "\n",
        "model.add(MaxPooling2D(pool_size=(2, 2)))#11\n",
        "\n",
        "model.add(Conv2D(8, (3, 3), kernel_regularizer=l2(0.01))) #12\n",
        "model.add(BatchNormalization())\n",
        "model.add(Activation('relu'))\n",
        "\n",
        "\n",
        "model.add(Conv2D(16, (3, 3), kernel_regularizer=l2(0.01))) #10\n",
        "model.add(BatchNormalization())\n",
        "model.add(Activation('relu'))\n",
        "\n",
        "\n",
        "model.add(Conv2D(16, (3, 3), kernel_regularizer=l2(0.01))) #8\n",
        "model.add(BatchNormalization())\n",
        "model.add(Activation('relu'))\n",
        "\n",
        "\n",
        "model.add(Conv2D(16, (3, 3), kernel_regularizer=l2(0.01))) #6\n",
        "model.add(BatchNormalization())\n",
        "model.add(Activation('relu'))\n",
        "\n",
        "\n",
        "model.add(Conv2D(10, (4, 4), kernel_regularizer=l2(0.01))) #4\n",
        "model.add(BatchNormalization())\n",
        "\n",
        "\n",
        "model.add(Flatten())\n",
        "model.add(Activation('softmax'))"
      ],
      "execution_count": 0,
      "outputs": []
    },
    {
      "cell_type": "code",
      "metadata": {
        "id": "YaiGcbKCVY4m",
        "colab_type": "code",
        "outputId": "f740c679-e2ca-400f-86f3-34dba1e8bf32",
        "colab": {
          "base_uri": "https://localhost:8080/",
          "height": 1000
        }
      },
      "source": [
        "model.summary()"
      ],
      "execution_count": 17,
      "outputs": [
        {
          "output_type": "stream",
          "text": [
            "_________________________________________________________________\n",
            "Layer (type)                 Output Shape              Param #   \n",
            "=================================================================\n",
            "conv2d_9 (Conv2D)            (None, 26, 26, 16)        160       \n",
            "_________________________________________________________________\n",
            "batch_normalization_8 (Batch (None, 26, 26, 16)        64        \n",
            "_________________________________________________________________\n",
            "activation_8 (Activation)    (None, 26, 26, 16)        0         \n",
            "_________________________________________________________________\n",
            "conv2d_10 (Conv2D)           (None, 24, 24, 16)        2320      \n",
            "_________________________________________________________________\n",
            "batch_normalization_9 (Batch (None, 24, 24, 16)        64        \n",
            "_________________________________________________________________\n",
            "activation_9 (Activation)    (None, 24, 24, 16)        0         \n",
            "_________________________________________________________________\n",
            "conv2d_11 (Conv2D)           (None, 24, 24, 10)        170       \n",
            "_________________________________________________________________\n",
            "batch_normalization_10 (Batc (None, 24, 24, 10)        40        \n",
            "_________________________________________________________________\n",
            "activation_10 (Activation)   (None, 24, 24, 10)        0         \n",
            "_________________________________________________________________\n",
            "max_pooling2d_3 (MaxPooling2 (None, 12, 12, 10)        0         \n",
            "_________________________________________________________________\n",
            "conv2d_12 (Conv2D)           (None, 10, 10, 8)         728       \n",
            "_________________________________________________________________\n",
            "batch_normalization_11 (Batc (None, 10, 10, 8)         32        \n",
            "_________________________________________________________________\n",
            "activation_11 (Activation)   (None, 10, 10, 8)         0         \n",
            "_________________________________________________________________\n",
            "conv2d_13 (Conv2D)           (None, 8, 8, 16)          1168      \n",
            "_________________________________________________________________\n",
            "batch_normalization_12 (Batc (None, 8, 8, 16)          64        \n",
            "_________________________________________________________________\n",
            "activation_12 (Activation)   (None, 8, 8, 16)          0         \n",
            "_________________________________________________________________\n",
            "conv2d_14 (Conv2D)           (None, 6, 6, 16)          2320      \n",
            "_________________________________________________________________\n",
            "batch_normalization_13 (Batc (None, 6, 6, 16)          64        \n",
            "_________________________________________________________________\n",
            "activation_13 (Activation)   (None, 6, 6, 16)          0         \n",
            "_________________________________________________________________\n",
            "conv2d_15 (Conv2D)           (None, 4, 4, 16)          2320      \n",
            "_________________________________________________________________\n",
            "batch_normalization_14 (Batc (None, 4, 4, 16)          64        \n",
            "_________________________________________________________________\n",
            "activation_14 (Activation)   (None, 4, 4, 16)          0         \n",
            "_________________________________________________________________\n",
            "conv2d_16 (Conv2D)           (None, 1, 1, 10)          2570      \n",
            "_________________________________________________________________\n",
            "batch_normalization_15 (Batc (None, 1, 1, 10)          40        \n",
            "_________________________________________________________________\n",
            "flatten_1 (Flatten)          (None, 10)                0         \n",
            "_________________________________________________________________\n",
            "activation_15 (Activation)   (None, 10)                0         \n",
            "=================================================================\n",
            "Total params: 12,188\n",
            "Trainable params: 11,972\n",
            "Non-trainable params: 216\n",
            "_________________________________________________________________\n"
          ],
          "name": "stdout"
        }
      ]
    },
    {
      "cell_type": "markdown",
      "metadata": {
        "id": "hrjdilvKMobS",
        "colab_type": "text"
      },
      "source": [
        "Creating a filepath to store the best model. This will help us in figuring out which are the different classes of image which are getting misclassified."
      ]
    },
    {
      "cell_type": "code",
      "metadata": {
        "id": "zOCMT_pU8VrO",
        "colab_type": "code",
        "colab": {}
      },
      "source": [
        "# from keras import backend as K\n",
        "\n",
        "# def custom_loss(lambd):\n",
        "#     w2=0\n",
        "#     for i in range(len(model.layers)):\n",
        "#       if len(model.layers[i].get_weights())>0:\n",
        "#         t=np.sum(model.layers[i].get_weights()[0]*model.layers[i].get_weights()[0])\n",
        "#         w2=w2+t\n",
        "#     w2=w2*(lambd/(2*X_train.shape[0]))\n",
        "#     return w2"
      ],
      "execution_count": 0,
      "outputs": []
    },
    {
      "cell_type": "code",
      "metadata": {
        "id": "duln6uDrheP9",
        "colab_type": "code",
        "colab": {}
      },
      "source": [
        "# def loss_l2(y_true,y_pred):\n",
        "#   return K.categorical_crossentropy(y_true,y_pred)+custom_loss(lambd)"
      ],
      "execution_count": 0,
      "outputs": []
    },
    {
      "cell_type": "code",
      "metadata": {
        "id": "fpblVFeLoZZV",
        "colab_type": "code",
        "colab": {}
      },
      "source": [
        "# lambd=0.01\n",
        "model.compile(loss='categorical_crossentropy', optimizer='adam', metrics=['accuracy'])\n",
        "batch_size = 32\n",
        "filepath=\"weights-improvement-{epoch:02d}-{val_acc:.2f}.hdf5\"\n",
        "model_checkpoint = ModelCheckpoint(filepath, monitor='val_acc', verbose=1, save_best_only=True, mode='max')"
      ],
      "execution_count": 0,
      "outputs": []
    },
    {
      "cell_type": "code",
      "metadata": {
        "id": "AqMs0mdIh6rl",
        "colab_type": "code",
        "colab": {}
      },
      "source": [
        "def scheduler(epoch, lr):\n",
        "    return round(0.003 * 1/(1 + 0.319 * epoch), 10)"
      ],
      "execution_count": 0,
      "outputs": []
    },
    {
      "cell_type": "code",
      "metadata": {
        "id": "JRz-V97XobOx",
        "colab_type": "code",
        "outputId": "854e49a3-0398-459f-dd2a-4fd17d2eb85c",
        "colab": {
          "base_uri": "https://localhost:8080/",
          "height": 1000
        }
      },
      "source": [
        "history = model.fit_generator(datagen.flow(X_train, Y_train, batch_size=32),\n",
        "                              steps_per_epoch = X_train.shape[0] // batch_size,\n",
        "                              epochs=40, verbose=1, \n",
        "                              validation_data=(X_test, Y_test),\n",
        "                              callbacks=[LearningRateScheduler(scheduler, verbose=1), model_checkpoint])"
      ],
      "execution_count": 22,
      "outputs": [
        {
          "output_type": "stream",
          "text": [
            "Epoch 1/40\n",
            "\n",
            "Epoch 00001: LearningRateScheduler setting learning rate to 0.003.\n",
            "1875/1875 [==============================] - 43s 23ms/step - loss: 0.5239 - acc: 0.9337 - val_loss: 2.3833 - val_acc: 0.3906\n",
            "\n",
            "Epoch 00001: val_acc improved from -inf to 0.39060, saving model to weights-improvement-01-0.39.hdf5\n",
            "Epoch 2/40\n",
            "\n",
            "Epoch 00002: LearningRateScheduler setting learning rate to 0.0022744503.\n",
            "1875/1875 [==============================] - 41s 22ms/step - loss: 0.2826 - acc: 0.9570 - val_loss: 1.7225 - val_acc: 0.4314\n",
            "\n",
            "Epoch 00002: val_acc improved from 0.39060 to 0.43140, saving model to weights-improvement-02-0.43.hdf5\n",
            "Epoch 3/40\n",
            "\n",
            "Epoch 00003: LearningRateScheduler setting learning rate to 0.0018315018.\n",
            "1875/1875 [==============================] - 41s 22ms/step - loss: 0.2386 - acc: 0.9631 - val_loss: 1.2356 - val_acc: 0.6087\n",
            "\n",
            "Epoch 00003: val_acc improved from 0.43140 to 0.60870, saving model to weights-improvement-03-0.61.hdf5\n",
            "Epoch 4/40\n",
            "\n",
            "Epoch 00004: LearningRateScheduler setting learning rate to 0.0015329586.\n",
            "1875/1875 [==============================] - 41s 22ms/step - loss: 0.2018 - acc: 0.9686 - val_loss: 0.8894 - val_acc: 0.7354\n",
            "\n",
            "Epoch 00004: val_acc improved from 0.60870 to 0.73540, saving model to weights-improvement-04-0.74.hdf5\n",
            "Epoch 5/40\n",
            "\n",
            "Epoch 00005: LearningRateScheduler setting learning rate to 0.0013181019.\n",
            "1875/1875 [==============================] - 41s 22ms/step - loss: 0.1810 - acc: 0.9709 - val_loss: 0.8255 - val_acc: 0.7374\n",
            "\n",
            "Epoch 00005: val_acc improved from 0.73540 to 0.73740, saving model to weights-improvement-05-0.74.hdf5\n",
            "Epoch 6/40\n",
            "\n",
            "Epoch 00006: LearningRateScheduler setting learning rate to 0.0011560694.\n",
            "1875/1875 [==============================] - 41s 22ms/step - loss: 0.1672 - acc: 0.9727 - val_loss: 0.5496 - val_acc: 0.8539\n",
            "\n",
            "Epoch 00006: val_acc improved from 0.73740 to 0.85390, saving model to weights-improvement-06-0.85.hdf5\n",
            "Epoch 7/40\n",
            "\n",
            "Epoch 00007: LearningRateScheduler setting learning rate to 0.0010295127.\n",
            "1875/1875 [==============================] - 41s 22ms/step - loss: 0.1542 - acc: 0.9753 - val_loss: 0.5187 - val_acc: 0.8574\n",
            "\n",
            "Epoch 00007: val_acc improved from 0.85390 to 0.85740, saving model to weights-improvement-07-0.86.hdf5\n",
            "Epoch 8/40\n",
            "\n",
            "Epoch 00008: LearningRateScheduler setting learning rate to 0.0009279307.\n",
            "1875/1875 [==============================] - 41s 22ms/step - loss: 0.1447 - acc: 0.9767 - val_loss: 0.5248 - val_acc: 0.8524\n",
            "\n",
            "Epoch 00008: val_acc did not improve from 0.85740\n",
            "Epoch 9/40\n",
            "\n",
            "Epoch 00009: LearningRateScheduler setting learning rate to 0.0008445946.\n",
            "1875/1875 [==============================] - 41s 22ms/step - loss: 0.1344 - acc: 0.9779 - val_loss: 0.8120 - val_acc: 0.7592\n",
            "\n",
            "Epoch 00009: val_acc did not improve from 0.85740\n",
            "Epoch 10/40\n",
            "\n",
            "Epoch 00010: LearningRateScheduler setting learning rate to 0.0007749935.\n",
            "1875/1875 [==============================] - 41s 22ms/step - loss: 0.1273 - acc: 0.9795 - val_loss: 0.4136 - val_acc: 0.9080\n",
            "\n",
            "Epoch 00010: val_acc improved from 0.85740 to 0.90800, saving model to weights-improvement-10-0.91.hdf5\n",
            "Epoch 11/40\n",
            "\n",
            "Epoch 00011: LearningRateScheduler setting learning rate to 0.0007159905.\n",
            "1875/1875 [==============================] - 42s 22ms/step - loss: 0.1188 - acc: 0.9810 - val_loss: 0.7373 - val_acc: 0.7791\n",
            "\n",
            "Epoch 00011: val_acc did not improve from 0.90800\n",
            "Epoch 12/40\n",
            "\n",
            "Epoch 00012: LearningRateScheduler setting learning rate to 0.000665336.\n",
            "1875/1875 [==============================] - 41s 22ms/step - loss: 0.1186 - acc: 0.9798 - val_loss: 0.9301 - val_acc: 0.7174\n",
            "\n",
            "Epoch 00012: val_acc did not improve from 0.90800\n",
            "Epoch 13/40\n",
            "\n",
            "Epoch 00013: LearningRateScheduler setting learning rate to 0.0006213753.\n",
            "1875/1875 [==============================] - 41s 22ms/step - loss: 0.1123 - acc: 0.9817 - val_loss: 0.2674 - val_acc: 0.9437\n",
            "\n",
            "Epoch 00013: val_acc improved from 0.90800 to 0.94370, saving model to weights-improvement-13-0.94.hdf5\n",
            "Epoch 14/40\n",
            "\n",
            "Epoch 00014: LearningRateScheduler setting learning rate to 0.0005828638.\n",
            "1875/1875 [==============================] - 41s 22ms/step - loss: 0.1059 - acc: 0.9828 - val_loss: 0.3058 - val_acc: 0.9219\n",
            "\n",
            "Epoch 00014: val_acc did not improve from 0.94370\n",
            "Epoch 15/40\n",
            "\n",
            "Epoch 00015: LearningRateScheduler setting learning rate to 0.0005488474.\n",
            "1875/1875 [==============================] - 41s 22ms/step - loss: 0.1024 - acc: 0.9835 - val_loss: 0.4775 - val_acc: 0.8657\n",
            "\n",
            "Epoch 00015: val_acc did not improve from 0.94370\n",
            "Epoch 16/40\n",
            "\n",
            "Epoch 00016: LearningRateScheduler setting learning rate to 0.0005185825.\n",
            "1875/1875 [==============================] - 41s 22ms/step - loss: 0.1012 - acc: 0.9828 - val_loss: 0.4620 - val_acc: 0.8816\n",
            "\n",
            "Epoch 00016: val_acc did not improve from 0.94370\n",
            "Epoch 17/40\n",
            "\n",
            "Epoch 00017: LearningRateScheduler setting learning rate to 0.000491481.\n",
            "1875/1875 [==============================] - 41s 22ms/step - loss: 0.0960 - acc: 0.9841 - val_loss: 0.9349 - val_acc: 0.7096\n",
            "\n",
            "Epoch 00017: val_acc did not improve from 0.94370\n",
            "Epoch 18/40\n",
            "\n",
            "Epoch 00018: LearningRateScheduler setting learning rate to 0.0004670715.\n",
            "1875/1875 [==============================] - 41s 22ms/step - loss: 0.0923 - acc: 0.9851 - val_loss: 0.7834 - val_acc: 0.7487\n",
            "\n",
            "Epoch 00018: val_acc did not improve from 0.94370\n",
            "Epoch 19/40\n",
            "\n",
            "Epoch 00019: LearningRateScheduler setting learning rate to 0.0004449718.\n",
            "1875/1875 [==============================] - 41s 22ms/step - loss: 0.0890 - acc: 0.9854 - val_loss: 0.9647 - val_acc: 0.7089\n",
            "\n",
            "Epoch 00019: val_acc did not improve from 0.94370\n",
            "Epoch 20/40\n",
            "\n",
            "Epoch 00020: LearningRateScheduler setting learning rate to 0.000424869.\n",
            "1875/1875 [==============================] - 41s 22ms/step - loss: 0.0875 - acc: 0.9849 - val_loss: 1.3506 - val_acc: 0.6170\n",
            "\n",
            "Epoch 00020: val_acc did not improve from 0.94370\n",
            "Epoch 21/40\n",
            "\n",
            "Epoch 00021: LearningRateScheduler setting learning rate to 0.0004065041.\n",
            "1875/1875 [==============================] - 41s 22ms/step - loss: 0.0836 - acc: 0.9861 - val_loss: 0.3645 - val_acc: 0.8991\n",
            "\n",
            "Epoch 00021: val_acc did not improve from 0.94370\n",
            "Epoch 22/40\n",
            "\n",
            "Epoch 00022: LearningRateScheduler setting learning rate to 0.000389661.\n",
            "1875/1875 [==============================] - 41s 22ms/step - loss: 0.0846 - acc: 0.9854 - val_loss: 0.3533 - val_acc: 0.9078\n",
            "\n",
            "Epoch 00022: val_acc did not improve from 0.94370\n",
            "Epoch 23/40\n",
            "\n",
            "Epoch 00023: LearningRateScheduler setting learning rate to 0.0003741581.\n",
            "1875/1875 [==============================] - 41s 22ms/step - loss: 0.0798 - acc: 0.9868 - val_loss: 1.9577 - val_acc: 0.5145\n",
            "\n",
            "Epoch 00023: val_acc did not improve from 0.94370\n",
            "Epoch 24/40\n",
            "\n",
            "Epoch 00024: LearningRateScheduler setting learning rate to 0.0003598417.\n",
            "1875/1875 [==============================] - 41s 22ms/step - loss: 0.0770 - acc: 0.9867 - val_loss: 0.4787 - val_acc: 0.8513\n",
            "\n",
            "Epoch 00024: val_acc did not improve from 0.94370\n",
            "Epoch 25/40\n",
            "\n",
            "Epoch 00025: LearningRateScheduler setting learning rate to 0.0003465804.\n",
            "1875/1875 [==============================] - 41s 22ms/step - loss: 0.0772 - acc: 0.9868 - val_loss: 1.1996 - val_acc: 0.6745\n",
            "\n",
            "Epoch 00025: val_acc did not improve from 0.94370\n",
            "Epoch 26/40\n",
            "\n",
            "Epoch 00026: LearningRateScheduler setting learning rate to 0.0003342618.\n",
            "1875/1875 [==============================] - 41s 22ms/step - loss: 0.0756 - acc: 0.9871 - val_loss: 0.6828 - val_acc: 0.7999\n",
            "\n",
            "Epoch 00026: val_acc did not improve from 0.94370\n",
            "Epoch 27/40\n",
            "\n",
            "Epoch 00027: LearningRateScheduler setting learning rate to 0.0003227889.\n",
            "1875/1875 [==============================] - 41s 22ms/step - loss: 0.0723 - acc: 0.9877 - val_loss: 0.4977 - val_acc: 0.8536\n",
            "\n",
            "Epoch 00027: val_acc did not improve from 0.94370\n",
            "Epoch 28/40\n",
            "\n",
            "Epoch 00028: LearningRateScheduler setting learning rate to 0.0003120774.\n",
            "1875/1875 [==============================] - 41s 22ms/step - loss: 0.0712 - acc: 0.9880 - val_loss: 0.8725 - val_acc: 0.7324\n",
            "\n",
            "Epoch 00028: val_acc did not improve from 0.94370\n",
            "Epoch 29/40\n",
            "\n",
            "Epoch 00029: LearningRateScheduler setting learning rate to 0.000302054.\n",
            "1875/1875 [==============================] - 41s 22ms/step - loss: 0.0703 - acc: 0.9878 - val_loss: 0.7210 - val_acc: 0.7706\n",
            "\n",
            "Epoch 00029: val_acc did not improve from 0.94370\n",
            "Epoch 30/40\n",
            "\n",
            "Epoch 00030: LearningRateScheduler setting learning rate to 0.0002926544.\n",
            "1875/1875 [==============================] - 41s 22ms/step - loss: 0.0699 - acc: 0.9883 - val_loss: 0.6874 - val_acc: 0.7896\n",
            "\n",
            "Epoch 00030: val_acc did not improve from 0.94370\n",
            "Epoch 31/40\n",
            "\n",
            "Epoch 00031: LearningRateScheduler setting learning rate to 0.0002838221.\n",
            "1875/1875 [==============================] - 41s 22ms/step - loss: 0.0678 - acc: 0.9883 - val_loss: 0.7475 - val_acc: 0.7529\n",
            "\n",
            "Epoch 00031: val_acc did not improve from 0.94370\n",
            "Epoch 32/40\n",
            "\n",
            "Epoch 00032: LearningRateScheduler setting learning rate to 0.0002755074.\n",
            "1875/1875 [==============================] - 41s 22ms/step - loss: 0.0671 - acc: 0.9885 - val_loss: 0.7503 - val_acc: 0.7588\n",
            "\n",
            "Epoch 00032: val_acc did not improve from 0.94370\n",
            "Epoch 33/40\n",
            "\n",
            "Epoch 00033: LearningRateScheduler setting learning rate to 0.000267666.\n",
            "1875/1875 [==============================] - 41s 22ms/step - loss: 0.0658 - acc: 0.9887 - val_loss: 0.7065 - val_acc: 0.7658\n",
            "\n",
            "Epoch 00033: val_acc did not improve from 0.94370\n",
            "Epoch 34/40\n",
            "\n",
            "Epoch 00034: LearningRateScheduler setting learning rate to 0.0002602585.\n",
            "1875/1875 [==============================] - 41s 22ms/step - loss: 0.0628 - acc: 0.9890 - val_loss: 0.6451 - val_acc: 0.8008\n",
            "\n",
            "Epoch 00034: val_acc did not improve from 0.94370\n",
            "Epoch 35/40\n",
            "\n",
            "Epoch 00035: LearningRateScheduler setting learning rate to 0.00025325.\n",
            "1875/1875 [==============================] - 41s 22ms/step - loss: 0.0624 - acc: 0.9894 - val_loss: 1.4670 - val_acc: 0.5546\n",
            "\n",
            "Epoch 00035: val_acc did not improve from 0.94370\n",
            "Epoch 36/40\n",
            "\n",
            "Epoch 00036: LearningRateScheduler setting learning rate to 0.0002466091.\n",
            "1875/1875 [==============================] - 41s 22ms/step - loss: 0.0615 - acc: 0.9899 - val_loss: 0.5815 - val_acc: 0.8130\n",
            "\n",
            "Epoch 00036: val_acc did not improve from 0.94370\n",
            "Epoch 37/40\n",
            "\n",
            "Epoch 00037: LearningRateScheduler setting learning rate to 0.0002403076.\n",
            "1875/1875 [==============================] - 41s 22ms/step - loss: 0.0611 - acc: 0.9898 - val_loss: 1.0542 - val_acc: 0.6278\n",
            "\n",
            "Epoch 00037: val_acc did not improve from 0.94370\n",
            "Epoch 38/40\n",
            "\n",
            "Epoch 00038: LearningRateScheduler setting learning rate to 0.0002343201.\n",
            "1875/1875 [==============================] - 41s 22ms/step - loss: 0.0603 - acc: 0.9894 - val_loss: 0.9346 - val_acc: 0.7109\n",
            "\n",
            "Epoch 00038: val_acc did not improve from 0.94370\n",
            "Epoch 39/40\n",
            "\n",
            "Epoch 00039: LearningRateScheduler setting learning rate to 0.0002286237.\n",
            "1875/1875 [==============================] - 42s 22ms/step - loss: 0.0561 - acc: 0.9906 - val_loss: 0.3908 - val_acc: 0.8898\n",
            "\n",
            "Epoch 00039: val_acc did not improve from 0.94370\n",
            "Epoch 40/40\n",
            "\n",
            "Epoch 00040: LearningRateScheduler setting learning rate to 0.0002231977.\n",
            "1875/1875 [==============================] - 41s 22ms/step - loss: 0.0580 - acc: 0.9901 - val_loss: 0.4016 - val_acc: 0.8917\n",
            "\n",
            "Epoch 00040: val_acc did not improve from 0.94370\n"
          ],
          "name": "stdout"
        }
      ]
    },
    {
      "cell_type": "code",
      "metadata": {
        "id": "WLxlW9ufyQiO",
        "colab_type": "code",
        "outputId": "7f39206f-2341-49aa-fade-33e421e85deb",
        "colab": {
          "base_uri": "https://localhost:8080/",
          "height": 34
        }
      },
      "source": [
        "score = model.evaluate(X_test, Y_test, verbose=0)\n",
        "print(score)"
      ],
      "execution_count": 23,
      "outputs": [
        {
          "output_type": "stream",
          "text": [
            "[0.4015700730800629, 0.8917]\n"
          ],
          "name": "stdout"
        }
      ]
    },
    {
      "cell_type": "markdown",
      "metadata": {
        "id": "XsetuH73MzDG",
        "colab_type": "text"
      },
      "source": [
        "## Loading the model weights back to the model"
      ]
    },
    {
      "cell_type": "code",
      "metadata": {
        "id": "rEVzZ4thx3eZ",
        "colab_type": "code",
        "colab": {
          "base_uri": "https://localhost:8080/",
          "height": 119
        },
        "outputId": "5815053e-efc4-4e14-93c6-7683420a760e"
      },
      "source": [
        "!ls"
      ],
      "execution_count": 24,
      "outputs": [
        {
          "output_type": "stream",
          "text": [
            "sample_data\t\t\t  weights-improvement-04-0.74.hdf5\n",
            "weights-improvement-01-0.11.hdf5  weights-improvement-05-0.74.hdf5\n",
            "weights-improvement-01-0.39.hdf5  weights-improvement-06-0.85.hdf5\n",
            "weights-improvement-02-0.43.hdf5  weights-improvement-07-0.86.hdf5\n",
            "weights-improvement-03-0.11.hdf5  weights-improvement-10-0.91.hdf5\n",
            "weights-improvement-03-0.61.hdf5  weights-improvement-13-0.94.hdf5\n"
          ],
          "name": "stdout"
        }
      ]
    },
    {
      "cell_type": "code",
      "metadata": {
        "id": "clwYb_kM3vFp",
        "colab_type": "code",
        "colab": {}
      },
      "source": [
        "model.load_weights(\"weights-improvement-13-0.94.hdf5\")"
      ],
      "execution_count": 0,
      "outputs": []
    },
    {
      "cell_type": "code",
      "metadata": {
        "id": "DC_YepJo5Vgf",
        "colab_type": "code",
        "outputId": "87ab578e-14fd-4697-8f45-5617648dfbf2",
        "colab": {
          "base_uri": "https://localhost:8080/",
          "height": 34
        }
      },
      "source": [
        "score = model.evaluate(X_test, Y_test, verbose=0)\n",
        "print(score)"
      ],
      "execution_count": 27,
      "outputs": [
        {
          "output_type": "stream",
          "text": [
            "[0.2673904165506363, 0.9437]\n"
          ],
          "name": "stdout"
        }
      ]
    },
    {
      "cell_type": "code",
      "metadata": {
        "id": "2BFB3x774B7o",
        "colab_type": "code",
        "colab": {}
      },
      "source": [
        "prediction = model.predict_classes(X_test)"
      ],
      "execution_count": 0,
      "outputs": []
    },
    {
      "cell_type": "markdown",
      "metadata": {
        "id": "uTPyzi-_M47E",
        "colab_type": "text"
      },
      "source": [
        "### Data study to find out misclassified images."
      ]
    },
    {
      "cell_type": "code",
      "metadata": {
        "id": "U6_BWwpy4Qlj",
        "colab_type": "code",
        "colab": {}
      },
      "source": [
        "misclassified = []\n",
        "for i in range(len(Y_test)):\n",
        "    if y_test[i] != prediction[i]:\n",
        "        misclassified.append((y_test[i], prediction[i], i))"
      ],
      "execution_count": 0,
      "outputs": []
    },
    {
      "cell_type": "code",
      "metadata": {
        "id": "BlqNBD3E4R4m",
        "colab_type": "code",
        "outputId": "98b83593-add6-41e0-8acd-06e95069a7dc",
        "colab": {
          "base_uri": "https://localhost:8080/",
          "height": 34
        }
      },
      "source": [
        "len(misclassified)"
      ],
      "execution_count": 30,
      "outputs": [
        {
          "output_type": "execute_result",
          "data": {
            "text/plain": [
              "563"
            ]
          },
          "metadata": {
            "tags": []
          },
          "execution_count": 30
        }
      ]
    },
    {
      "cell_type": "code",
      "metadata": {
        "id": "RRTTU-2F5QzM",
        "colab_type": "code",
        "colab": {}
      },
      "source": [
        "misclassified_images = []\n",
        "misclassified_classes = []\n",
        "actual_classes = []\n",
        "\n",
        "for actual_val, pred_val, i in misclassified:\n",
        "    misclassified_images.append(X_test[i])\n",
        "    actual_classes.append(actual_val)\n",
        "    misclassified_classes.append(pred_val)"
      ],
      "execution_count": 0,
      "outputs": []
    },
    {
      "cell_type": "code",
      "metadata": {
        "id": "N2mFeyfIMiZp",
        "colab_type": "code",
        "outputId": "6fa3e1fd-36f0-4cf5-a3b6-1d087dd973aa",
        "colab": {
          "base_uri": "https://localhost:8080/",
          "height": 34
        }
      },
      "source": [
        "test_images = np.array(misclassified_images)[0:25]\n",
        "test_images.shape"
      ],
      "execution_count": 32,
      "outputs": [
        {
          "output_type": "execute_result",
          "data": {
            "text/plain": [
              "(25, 28, 28, 1)"
            ]
          },
          "metadata": {
            "tags": []
          },
          "execution_count": 32
        }
      ]
    },
    {
      "cell_type": "markdown",
      "metadata": {
        "id": "j53wSR6_NAMj",
        "colab_type": "text"
      },
      "source": [
        "## Plot of 25 images which are misclassified"
      ]
    },
    {
      "cell_type": "code",
      "metadata": {
        "id": "wWW-N5xu5bUN",
        "colab_type": "code",
        "outputId": "fda9ac42-7d58-436d-8e8f-09358af36ac2",
        "colab": {
          "base_uri": "https://localhost:8080/",
          "height": 792
        }
      },
      "source": [
        "fig, ax = plt.subplots(5, 5, figsize = (12, 12))\n",
        "\n",
        "fig.tight_layout(pad = 0.3, rect = [0, 0, 0.9, 0.9])\n",
        "i = 0\n",
        "\n",
        "for row in ax:\n",
        "\tfor col in row:\n",
        "\t\tif i < 25:\n",
        "\t\t\tcol.imshow(test_images[i].reshape(28,28), cmap='gray')\n",
        "\t\t\ti += 1"
      ],
      "execution_count": 33,
      "outputs": [
        {
          "output_type": "display_data",
          "data": {
            "image/png": "[encoded data removed]",
            "text/plain": [
              "<Figure size 864x864 with 25 Axes>"
            ]
          },
          "metadata": {
            "tags": []
          }
        }
      ]
    },
    {
      "cell_type": "markdown",
      "metadata": {
        "id": "xUfgqwX2NEOG",
        "colab_type": "text"
      },
      "source": [
        "The below shows the actual class value and the predicted class value. "
      ]
    },
    {
      "cell_type": "code",
      "metadata": {
        "id": "SWQqjblGMYG3",
        "colab_type": "code",
        "outputId": "86504dcb-3536-471a-aaa8-78e69e344e63",
        "colab": {
          "base_uri": "https://localhost:8080/",
          "height": 459
        }
      },
      "source": [
        "print(\"Actual Classes\")\n",
        "for i in range(25):\n",
        "    if i % 5 != 0:\n",
        "        print(actual_classes[i], end=' ')\n",
        "    else:\n",
        "        print('\\n')\n",
        "        print(actual_classes[i], end=' ')\n",
        "        \n",
        "print('\\n\\n')        \n",
        "\n",
        "print(\"Misclassified Classes\")\n",
        "for i in range(25):\n",
        "    if i % 5 != 0:\n",
        "        print(misclassified_classes[i], end=' ')\n",
        "    else:\n",
        "        print('\\n')\n",
        "        print(misclassified_classes[i], end=' ')"
      ],
      "execution_count": 34,
      "outputs": [
        {
          "output_type": "stream",
          "text": [
            "Actual Classes\n",
            "\n",
            "\n",
            "5 9 3 9 2 \n",
            "\n",
            "7 5 9 3 3 \n",
            "\n",
            "9 9 6 8 9 \n",
            "\n",
            "2 9 9 5 6 \n",
            "\n",
            "3 7 9 2 3 \n",
            "\n",
            "\n",
            "Misclassified Classes\n",
            "\n",
            "\n",
            "6 7 4 4 7 \n",
            "\n",
            "4 6 4 1 0 \n",
            "\n",
            "4 7 0 6 7 \n",
            "\n",
            "7 4 4 1 4 \n",
            "\n",
            "7 1 4 7 7 "
          ],
          "name": "stdout"
        }
      ]
    },
    {
      "cell_type": "code",
      "metadata": {
        "id": "JE_fkNJsVxM2",
        "colab_type": "code",
        "colab": {}
      },
      "source": [
        ""
      ],
      "execution_count": 0,
      "outputs": []
    }
  ]
}